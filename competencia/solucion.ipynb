{
 "cells": [
  {
   "cell_type": "markdown",
   "metadata": {},
   "source": [
    "# Diplomatura en Ciencia de Datos, Aprendizaje Automático y sus Aplicaciones\n",
    "\n",
    "## Aprendizaje Supervisado\n",
    "\n",
    "### Competencia de Kaggle: _Predicción de diabetes_\n",
    "\n",
    "Grupo 30:\n",
    "\n",
    "- Camino, Fernando\n",
    "- Herrador, Emanuel Nicolás\n",
    "- Rapoport, Juana\n",
    "- Stutz, Sebastián\n",
    "- Szurlewicz, Juan Ignacio\n",
    "\n",
    "---\n"
   ]
  },
  {
   "cell_type": "markdown",
   "metadata": {},
   "source": [
    "## Índice (TODO)\n"
   ]
  },
  {
   "cell_type": "markdown",
   "metadata": {},
   "source": [
    "## 1. Introducción (TODO)\n"
   ]
  },
  {
   "cell_type": "markdown",
   "metadata": {},
   "source": [
    "## 2. Desarrollo previo\n"
   ]
  },
  {
   "cell_type": "markdown",
   "metadata": {},
   "source": [
    "### 2.1. Importación de librerías\n"
   ]
  },
  {
   "cell_type": "markdown",
   "metadata": {},
   "source": [
    "Las librerías que vamos a usar en el presente proyecto son las siguientes:\n"
   ]
  },
  {
   "cell_type": "code",
   "execution_count": 2,
   "metadata": {},
   "outputs": [],
   "source": [
    "# Importamos las librerías\n",
    "import pandas as pd\n",
    "import numpy as np\n",
    "\n",
    "import matplotlib.pyplot as plt\n",
    "import seaborn as sns\n",
    "import plotly.graph_objects as go\n",
    "import plotly.express as px\n",
    "import plotly.figure_factory as ff\n",
    "from plotly.subplots import make_subplots\n",
    "\n",
    "# Seteamos la seed para reproducibilidad\n",
    "np.random.seed(0)"
   ]
  },
  {
   "cell_type": "markdown",
   "metadata": {},
   "source": [
    "### 2.2. Carga de datos\n"
   ]
  },
  {
   "cell_type": "markdown",
   "metadata": {},
   "source": [
    "Realizamos la carga de los datos que vamos a utilizar en el proyecto para el entrenamiento y para nuestra predicción:\n"
   ]
  },
  {
   "cell_type": "code",
   "execution_count": 3,
   "metadata": {},
   "outputs": [
    {
     "data": {
      "text/html": [
       "<div>\n",
       "<style scoped>\n",
       "    .dataframe tbody tr th:only-of-type {\n",
       "        vertical-align: middle;\n",
       "    }\n",
       "\n",
       "    .dataframe tbody tr th {\n",
       "        vertical-align: top;\n",
       "    }\n",
       "\n",
       "    .dataframe thead th {\n",
       "        text-align: right;\n",
       "    }\n",
       "</style>\n",
       "<table border=\"1\" class=\"dataframe\">\n",
       "  <thead>\n",
       "    <tr style=\"text-align: right;\">\n",
       "      <th></th>\n",
       "      <th>patient</th>\n",
       "      <th>gender</th>\n",
       "      <th>age</th>\n",
       "      <th>hypertension</th>\n",
       "      <th>heart_disease</th>\n",
       "      <th>smoking_history</th>\n",
       "      <th>bmi</th>\n",
       "      <th>HbA1c_level</th>\n",
       "      <th>blood_glucose_level</th>\n",
       "      <th>diabetes</th>\n",
       "    </tr>\n",
       "  </thead>\n",
       "  <tbody>\n",
       "    <tr>\n",
       "      <th>0</th>\n",
       "      <td>20432</td>\n",
       "      <td>Male</td>\n",
       "      <td>4.0</td>\n",
       "      <td>0</td>\n",
       "      <td>0</td>\n",
       "      <td>never</td>\n",
       "      <td>19.28</td>\n",
       "      <td>3.5</td>\n",
       "      <td>155</td>\n",
       "      <td>0</td>\n",
       "    </tr>\n",
       "    <tr>\n",
       "      <th>1</th>\n",
       "      <td>49682</td>\n",
       "      <td>Female</td>\n",
       "      <td>50.0</td>\n",
       "      <td>0</td>\n",
       "      <td>0</td>\n",
       "      <td>former</td>\n",
       "      <td>27.32</td>\n",
       "      <td>5.7</td>\n",
       "      <td>159</td>\n",
       "      <td>0</td>\n",
       "    </tr>\n",
       "    <tr>\n",
       "      <th>2</th>\n",
       "      <td>73886</td>\n",
       "      <td>Female</td>\n",
       "      <td>43.0</td>\n",
       "      <td>0</td>\n",
       "      <td>0</td>\n",
       "      <td>never</td>\n",
       "      <td>21.54</td>\n",
       "      <td>4.5</td>\n",
       "      <td>145</td>\n",
       "      <td>0</td>\n",
       "    </tr>\n",
       "    <tr>\n",
       "      <th>3</th>\n",
       "      <td>53144</td>\n",
       "      <td>Male</td>\n",
       "      <td>64.0</td>\n",
       "      <td>0</td>\n",
       "      <td>0</td>\n",
       "      <td>current</td>\n",
       "      <td>28.22</td>\n",
       "      <td>6.0</td>\n",
       "      <td>130</td>\n",
       "      <td>0</td>\n",
       "    </tr>\n",
       "    <tr>\n",
       "      <th>4</th>\n",
       "      <td>98507</td>\n",
       "      <td>Male</td>\n",
       "      <td>10.0</td>\n",
       "      <td>0</td>\n",
       "      <td>0</td>\n",
       "      <td>No Info</td>\n",
       "      <td>15.46</td>\n",
       "      <td>6.1</td>\n",
       "      <td>140</td>\n",
       "      <td>0</td>\n",
       "    </tr>\n",
       "  </tbody>\n",
       "</table>\n",
       "</div>"
      ],
      "text/plain": [
       "   patient  gender   age  hypertension  heart_disease smoking_history    bmi  \\\n",
       "0    20432    Male   4.0             0              0           never  19.28   \n",
       "1    49682  Female  50.0             0              0          former  27.32   \n",
       "2    73886  Female  43.0             0              0           never  21.54   \n",
       "3    53144    Male  64.0             0              0         current  28.22   \n",
       "4    98507    Male  10.0             0              0         No Info  15.46   \n",
       "\n",
       "   HbA1c_level  blood_glucose_level  diabetes  \n",
       "0          3.5                  155         0  \n",
       "1          5.7                  159         0  \n",
       "2          4.5                  145         0  \n",
       "3          6.0                  130         0  \n",
       "4          6.1                  140         0  "
      ]
     },
     "metadata": {},
     "output_type": "display_data"
    },
    {
     "data": {
      "text/html": [
       "<div>\n",
       "<style scoped>\n",
       "    .dataframe tbody tr th:only-of-type {\n",
       "        vertical-align: middle;\n",
       "    }\n",
       "\n",
       "    .dataframe tbody tr th {\n",
       "        vertical-align: top;\n",
       "    }\n",
       "\n",
       "    .dataframe thead th {\n",
       "        text-align: right;\n",
       "    }\n",
       "</style>\n",
       "<table border=\"1\" class=\"dataframe\">\n",
       "  <thead>\n",
       "    <tr style=\"text-align: right;\">\n",
       "      <th></th>\n",
       "      <th>patient</th>\n",
       "      <th>gender</th>\n",
       "      <th>age</th>\n",
       "      <th>hypertension</th>\n",
       "      <th>heart_disease</th>\n",
       "      <th>smoking_history</th>\n",
       "      <th>bmi</th>\n",
       "      <th>HbA1c_level</th>\n",
       "      <th>blood_glucose_level</th>\n",
       "      <th>diabetes</th>\n",
       "    </tr>\n",
       "  </thead>\n",
       "  <tbody>\n",
       "    <tr>\n",
       "      <th>0</th>\n",
       "      <td>49267</td>\n",
       "      <td>Male</td>\n",
       "      <td>53.0</td>\n",
       "      <td>0</td>\n",
       "      <td>0</td>\n",
       "      <td>never</td>\n",
       "      <td>31.99</td>\n",
       "      <td>4.5</td>\n",
       "      <td>126</td>\n",
       "      <td>NaN</td>\n",
       "    </tr>\n",
       "    <tr>\n",
       "      <th>1</th>\n",
       "      <td>82280</td>\n",
       "      <td>Female</td>\n",
       "      <td>22.0</td>\n",
       "      <td>0</td>\n",
       "      <td>0</td>\n",
       "      <td>never</td>\n",
       "      <td>25.96</td>\n",
       "      <td>6.6</td>\n",
       "      <td>130</td>\n",
       "      <td>NaN</td>\n",
       "    </tr>\n",
       "    <tr>\n",
       "      <th>2</th>\n",
       "      <td>33216</td>\n",
       "      <td>Female</td>\n",
       "      <td>37.0</td>\n",
       "      <td>0</td>\n",
       "      <td>0</td>\n",
       "      <td>never</td>\n",
       "      <td>22.24</td>\n",
       "      <td>6.2</td>\n",
       "      <td>126</td>\n",
       "      <td>NaN</td>\n",
       "    </tr>\n",
       "    <tr>\n",
       "      <th>3</th>\n",
       "      <td>94551</td>\n",
       "      <td>Female</td>\n",
       "      <td>29.0</td>\n",
       "      <td>0</td>\n",
       "      <td>0</td>\n",
       "      <td>not current</td>\n",
       "      <td>31.01</td>\n",
       "      <td>5.0</td>\n",
       "      <td>80</td>\n",
       "      <td>NaN</td>\n",
       "    </tr>\n",
       "    <tr>\n",
       "      <th>4</th>\n",
       "      <td>43760</td>\n",
       "      <td>Male</td>\n",
       "      <td>30.0</td>\n",
       "      <td>0</td>\n",
       "      <td>0</td>\n",
       "      <td>ever</td>\n",
       "      <td>28.66</td>\n",
       "      <td>6.6</td>\n",
       "      <td>100</td>\n",
       "      <td>NaN</td>\n",
       "    </tr>\n",
       "  </tbody>\n",
       "</table>\n",
       "</div>"
      ],
      "text/plain": [
       "   patient  gender   age  hypertension  heart_disease smoking_history    bmi  \\\n",
       "0    49267    Male  53.0             0              0           never  31.99   \n",
       "1    82280  Female  22.0             0              0           never  25.96   \n",
       "2    33216  Female  37.0             0              0           never  22.24   \n",
       "3    94551  Female  29.0             0              0     not current  31.01   \n",
       "4    43760    Male  30.0             0              0            ever  28.66   \n",
       "\n",
       "   HbA1c_level  blood_glucose_level  diabetes  \n",
       "0          4.5                  126       NaN  \n",
       "1          6.6                  130       NaN  \n",
       "2          6.2                  126       NaN  \n",
       "3          5.0                   80       NaN  \n",
       "4          6.6                  100       NaN  "
      ]
     },
     "metadata": {},
     "output_type": "display_data"
    }
   ],
   "source": [
    "TRAIN_DATA = pd.read_csv('data/diabetes_prediction_dataset_train-labeled.csv')\n",
    "TEST_DATA = pd.read_csv('data/diabetes_prediction_dataset_test.csv')\n",
    "\n",
    "# Mostramos las primeras filas del dataset\n",
    "display(TRAIN_DATA.head())\n",
    "display(TEST_DATA.head())"
   ]
  },
  {
   "cell_type": "markdown",
   "metadata": {},
   "source": [
    "## 3. Descripción de los datos\n"
   ]
  },
  {
   "cell_type": "markdown",
   "metadata": {},
   "source": [
    "Esta competencia ha sido creada a partir de un dataset sobre una recopilación de datos médicos y demográficos de los pacientes, junto con su estado de diabetes (positivo o negativo).\n",
    "\n",
    "Los datos incluyen características como la edad, el sexo, el índice de masa corporal (IMC), la hipertensión, las enfermedades cardíacas, el historial de tabaquismo, el nivel de HbA1c y el nivel de glucosa en sangre:\n",
    "\n",
    "- `Gender`: Género se refiere al sexo biológico del individuo, que puede tener un impacto en su susceptibilidad a la diabetes. Hay tres categorías en él masculino, femenino y otro.\n",
    "- `Age`: La edad es un factor importante ya que la diabetes se diagnostica con mayor frecuencia en adultos mayores. El rango de edad en el conjunto de datos es de 0 a 80.\n",
    "- `Hypertension`: La hipertensión es una afección médica en la que la presión arterial en las arterias está persistentemente elevada. Tiene valores de 0 o 1 donde 0 indica que no tienen hipertensión y para 1 significa que tienen hipertensión.\n",
    "- `Heart Disease`: La enfermedad cardíaca es otra afección médica que se asocia con un mayor riesgo de desarrollar diabetes. Tiene valores de 0 o 1 donde 0 indica que no tienen enfermedad cardíaca y para 1 significa que tienen enfermedad cardíaca.\n",
    "- `Smoking History`: La historia de tabaquismo también se considera un factor de riesgo para la diabetes y puede exacerbar las complicaciones asociadas con la diabetes. En nuestro conjunto de datos tenemos 5 categorías es decir, not current, former, No Info, current, never y ever.\n",
    "- `bmi`: BMI (Índice de Masa Corporal) es una medida de la grasa corporal basada en el peso y la altura. Los valores de BMI más altos están vinculados a un mayor riesgo de diabetes. El rango de BMI en el conjunto de datos es de 10.16 a 71.55. BMI menor de 18.5 es bajo peso, 18.5-24.9 es normal, 25-29.9 es sobrepeso y 30 o más es obeso.\n",
    "- `HbA1c_level`: El nivel de HbA1c (Hemoglobina A1c) es una medida del nivel promedio de azúcar en la sangre de una persona en los últimos 2-3 meses. Niveles más altos indican un mayor riesgo de desarrollar diabetes. En su mayoría, más del 6.5% del nivel de HbA1c indica diabetes.\n",
    "- `blood_glucose_level`: El nivel de glucosa en sangre se refiere a la cantidad de glucosa en el torrente sanguíneo en un momento dado. Los niveles altos de glucosa en sangre son un indicador clave de la diabetes.\n"
   ]
  },
  {
   "cell_type": "markdown",
   "metadata": {},
   "source": [
    "## 4. Análisis exploratorio de los datos\n"
   ]
  }
 ],
 "metadata": {
  "kernelspec": {
   "display_name": "data_science",
   "language": "python",
   "name": "python3"
  },
  "language_info": {
   "codemirror_mode": {
    "name": "ipython",
    "version": 3
   },
   "file_extension": ".py",
   "mimetype": "text/x-python",
   "name": "python",
   "nbconvert_exporter": "python",
   "pygments_lexer": "ipython3",
   "version": "3.12.4"
  }
 },
 "nbformat": 4,
 "nbformat_minor": 2
}
